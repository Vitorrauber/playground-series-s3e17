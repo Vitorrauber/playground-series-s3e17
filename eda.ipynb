{
 "cells": [
  {
   "cell_type": "code",
   "execution_count": 1,
   "id": "13f119cf",
   "metadata": {},
   "outputs": [],
   "source": [
    "import numpy as np\n",
    "import seaborn as sns\n",
    "import pandas as pd\n",
    "import matplotlib.pyplot as plt\n",
    "### vou usar isso com ref:https://www.kaggle.com/code/mehrankazeminia/ps3e17-gaussiannb"
   ]
  },
  {
   "cell_type": "code",
   "execution_count": 2,
   "id": "e7ee3ffa",
   "metadata": {},
   "outputs": [],
   "source": [
    "train = pd.read_csv(\"playground-series-s3e17/train.csv\", )\n",
    "test = pd.read_csv(\"playground-series-s3e17/test.csv\")\n",
    "df_original = pd.read_csv(\"original/machine failure.csv\")\n",
    "df_original.drop(columns='UDI', inplace= True)\n",
    "train.drop(columns='id', inplace= True)"
   ]
  },
  {
   "cell_type": "code",
   "execution_count": 3,
   "id": "c70aca1c",
   "metadata": {},
   "outputs": [
    {
     "data": {
      "text/html": [
       "<div>\n",
       "<style scoped>\n",
       "    .dataframe tbody tr th:only-of-type {\n",
       "        vertical-align: middle;\n",
       "    }\n",
       "\n",
       "    .dataframe tbody tr th {\n",
       "        vertical-align: top;\n",
       "    }\n",
       "\n",
       "    .dataframe thead th {\n",
       "        text-align: right;\n",
       "    }\n",
       "</style>\n",
       "<table border=\"1\" class=\"dataframe\">\n",
       "  <thead>\n",
       "    <tr style=\"text-align: right;\">\n",
       "      <th></th>\n",
       "      <th>Product ID</th>\n",
       "      <th>Type</th>\n",
       "      <th>Air temperature [K]</th>\n",
       "      <th>Process temperature [K]</th>\n",
       "      <th>Rotational speed [rpm]</th>\n",
       "      <th>Torque [Nm]</th>\n",
       "      <th>Tool wear [min]</th>\n",
       "      <th>Machine failure</th>\n",
       "      <th>TWF</th>\n",
       "      <th>HDF</th>\n",
       "      <th>PWF</th>\n",
       "      <th>OSF</th>\n",
       "      <th>RNF</th>\n",
       "    </tr>\n",
       "  </thead>\n",
       "  <tbody>\n",
       "    <tr>\n",
       "      <th>0</th>\n",
       "      <td>L50096</td>\n",
       "      <td>L</td>\n",
       "      <td>300.6</td>\n",
       "      <td>309.6</td>\n",
       "      <td>1596</td>\n",
       "      <td>36.1</td>\n",
       "      <td>140</td>\n",
       "      <td>0</td>\n",
       "      <td>0</td>\n",
       "      <td>0</td>\n",
       "      <td>0</td>\n",
       "      <td>0</td>\n",
       "      <td>0</td>\n",
       "    </tr>\n",
       "    <tr>\n",
       "      <th>1</th>\n",
       "      <td>M20343</td>\n",
       "      <td>M</td>\n",
       "      <td>302.6</td>\n",
       "      <td>312.1</td>\n",
       "      <td>1759</td>\n",
       "      <td>29.1</td>\n",
       "      <td>200</td>\n",
       "      <td>0</td>\n",
       "      <td>0</td>\n",
       "      <td>0</td>\n",
       "      <td>0</td>\n",
       "      <td>0</td>\n",
       "      <td>0</td>\n",
       "    </tr>\n",
       "    <tr>\n",
       "      <th>2</th>\n",
       "      <td>L49454</td>\n",
       "      <td>L</td>\n",
       "      <td>299.3</td>\n",
       "      <td>308.5</td>\n",
       "      <td>1805</td>\n",
       "      <td>26.5</td>\n",
       "      <td>25</td>\n",
       "      <td>0</td>\n",
       "      <td>0</td>\n",
       "      <td>0</td>\n",
       "      <td>0</td>\n",
       "      <td>0</td>\n",
       "      <td>0</td>\n",
       "    </tr>\n",
       "    <tr>\n",
       "      <th>3</th>\n",
       "      <td>L53355</td>\n",
       "      <td>L</td>\n",
       "      <td>301.0</td>\n",
       "      <td>310.9</td>\n",
       "      <td>1524</td>\n",
       "      <td>44.3</td>\n",
       "      <td>197</td>\n",
       "      <td>0</td>\n",
       "      <td>0</td>\n",
       "      <td>0</td>\n",
       "      <td>0</td>\n",
       "      <td>0</td>\n",
       "      <td>0</td>\n",
       "    </tr>\n",
       "    <tr>\n",
       "      <th>4</th>\n",
       "      <td>M24050</td>\n",
       "      <td>M</td>\n",
       "      <td>298.0</td>\n",
       "      <td>309.0</td>\n",
       "      <td>1641</td>\n",
       "      <td>35.4</td>\n",
       "      <td>34</td>\n",
       "      <td>0</td>\n",
       "      <td>0</td>\n",
       "      <td>0</td>\n",
       "      <td>0</td>\n",
       "      <td>0</td>\n",
       "      <td>0</td>\n",
       "    </tr>\n",
       "  </tbody>\n",
       "</table>\n",
       "</div>"
      ],
      "text/plain": [
       "  Product ID Type  Air temperature [K]  Process temperature [K]  \\\n",
       "0     L50096    L                300.6                    309.6   \n",
       "1     M20343    M                302.6                    312.1   \n",
       "2     L49454    L                299.3                    308.5   \n",
       "3     L53355    L                301.0                    310.9   \n",
       "4     M24050    M                298.0                    309.0   \n",
       "\n",
       "   Rotational speed [rpm]  Torque [Nm]  Tool wear [min]  Machine failure  TWF  \\\n",
       "0                    1596         36.1              140                0    0   \n",
       "1                    1759         29.1              200                0    0   \n",
       "2                    1805         26.5               25                0    0   \n",
       "3                    1524         44.3              197                0    0   \n",
       "4                    1641         35.4               34                0    0   \n",
       "\n",
       "   HDF  PWF  OSF  RNF  \n",
       "0    0    0    0    0  \n",
       "1    0    0    0    0  \n",
       "2    0    0    0    0  \n",
       "3    0    0    0    0  \n",
       "4    0    0    0    0  "
      ]
     },
     "execution_count": 3,
     "metadata": {},
     "output_type": "execute_result"
    }
   ],
   "source": [
    "train.head(5)"
   ]
  },
  {
   "cell_type": "code",
   "execution_count": 4,
   "id": "9e30ff1a",
   "metadata": {},
   "outputs": [
    {
     "data": {
      "text/html": [
       "<div>\n",
       "<style scoped>\n",
       "    .dataframe tbody tr th:only-of-type {\n",
       "        vertical-align: middle;\n",
       "    }\n",
       "\n",
       "    .dataframe tbody tr th {\n",
       "        vertical-align: top;\n",
       "    }\n",
       "\n",
       "    .dataframe thead th {\n",
       "        text-align: right;\n",
       "    }\n",
       "</style>\n",
       "<table border=\"1\" class=\"dataframe\">\n",
       "  <thead>\n",
       "    <tr style=\"text-align: right;\">\n",
       "      <th></th>\n",
       "      <th>Product ID</th>\n",
       "      <th>Type</th>\n",
       "      <th>Air temperature [K]</th>\n",
       "      <th>Process temperature [K]</th>\n",
       "      <th>Rotational speed [rpm]</th>\n",
       "      <th>Torque [Nm]</th>\n",
       "      <th>Tool wear [min]</th>\n",
       "      <th>Machine failure</th>\n",
       "      <th>TWF</th>\n",
       "      <th>HDF</th>\n",
       "      <th>PWF</th>\n",
       "      <th>OSF</th>\n",
       "      <th>RNF</th>\n",
       "    </tr>\n",
       "  </thead>\n",
       "  <tbody>\n",
       "    <tr>\n",
       "      <th>0</th>\n",
       "      <td>M14860</td>\n",
       "      <td>M</td>\n",
       "      <td>298.1</td>\n",
       "      <td>308.6</td>\n",
       "      <td>1551</td>\n",
       "      <td>42.8</td>\n",
       "      <td>0</td>\n",
       "      <td>0</td>\n",
       "      <td>0</td>\n",
       "      <td>0</td>\n",
       "      <td>0</td>\n",
       "      <td>0</td>\n",
       "      <td>0</td>\n",
       "    </tr>\n",
       "    <tr>\n",
       "      <th>1</th>\n",
       "      <td>L47181</td>\n",
       "      <td>L</td>\n",
       "      <td>298.2</td>\n",
       "      <td>308.7</td>\n",
       "      <td>1408</td>\n",
       "      <td>46.3</td>\n",
       "      <td>3</td>\n",
       "      <td>0</td>\n",
       "      <td>0</td>\n",
       "      <td>0</td>\n",
       "      <td>0</td>\n",
       "      <td>0</td>\n",
       "      <td>0</td>\n",
       "    </tr>\n",
       "    <tr>\n",
       "      <th>2</th>\n",
       "      <td>L47182</td>\n",
       "      <td>L</td>\n",
       "      <td>298.1</td>\n",
       "      <td>308.5</td>\n",
       "      <td>1498</td>\n",
       "      <td>49.4</td>\n",
       "      <td>5</td>\n",
       "      <td>0</td>\n",
       "      <td>0</td>\n",
       "      <td>0</td>\n",
       "      <td>0</td>\n",
       "      <td>0</td>\n",
       "      <td>0</td>\n",
       "    </tr>\n",
       "    <tr>\n",
       "      <th>3</th>\n",
       "      <td>L47183</td>\n",
       "      <td>L</td>\n",
       "      <td>298.2</td>\n",
       "      <td>308.6</td>\n",
       "      <td>1433</td>\n",
       "      <td>39.5</td>\n",
       "      <td>7</td>\n",
       "      <td>0</td>\n",
       "      <td>0</td>\n",
       "      <td>0</td>\n",
       "      <td>0</td>\n",
       "      <td>0</td>\n",
       "      <td>0</td>\n",
       "    </tr>\n",
       "    <tr>\n",
       "      <th>4</th>\n",
       "      <td>L47184</td>\n",
       "      <td>L</td>\n",
       "      <td>298.2</td>\n",
       "      <td>308.7</td>\n",
       "      <td>1408</td>\n",
       "      <td>40.0</td>\n",
       "      <td>9</td>\n",
       "      <td>0</td>\n",
       "      <td>0</td>\n",
       "      <td>0</td>\n",
       "      <td>0</td>\n",
       "      <td>0</td>\n",
       "      <td>0</td>\n",
       "    </tr>\n",
       "  </tbody>\n",
       "</table>\n",
       "</div>"
      ],
      "text/plain": [
       "  Product ID Type  Air temperature [K]  Process temperature [K]  \\\n",
       "0     M14860    M                298.1                    308.6   \n",
       "1     L47181    L                298.2                    308.7   \n",
       "2     L47182    L                298.1                    308.5   \n",
       "3     L47183    L                298.2                    308.6   \n",
       "4     L47184    L                298.2                    308.7   \n",
       "\n",
       "   Rotational speed [rpm]  Torque [Nm]  Tool wear [min]  Machine failure  TWF  \\\n",
       "0                    1551         42.8                0                0    0   \n",
       "1                    1408         46.3                3                0    0   \n",
       "2                    1498         49.4                5                0    0   \n",
       "3                    1433         39.5                7                0    0   \n",
       "4                    1408         40.0                9                0    0   \n",
       "\n",
       "   HDF  PWF  OSF  RNF  \n",
       "0    0    0    0    0  \n",
       "1    0    0    0    0  \n",
       "2    0    0    0    0  \n",
       "3    0    0    0    0  \n",
       "4    0    0    0    0  "
      ]
     },
     "execution_count": 4,
     "metadata": {},
     "output_type": "execute_result"
    }
   ],
   "source": [
    "df_original.head(5)"
   ]
  },
  {
   "cell_type": "code",
   "execution_count": 5,
   "id": "17c392c8",
   "metadata": {},
   "outputs": [],
   "source": [
    "df = pd.concat([train,df_original])"
   ]
  },
  {
   "cell_type": "code",
   "execution_count": 6,
   "id": "bbc3b4c9",
   "metadata": {},
   "outputs": [
    {
     "data": {
      "text/html": [
       "<div>\n",
       "<style scoped>\n",
       "    .dataframe tbody tr th:only-of-type {\n",
       "        vertical-align: middle;\n",
       "    }\n",
       "\n",
       "    .dataframe tbody tr th {\n",
       "        vertical-align: top;\n",
       "    }\n",
       "\n",
       "    .dataframe thead th {\n",
       "        text-align: right;\n",
       "    }\n",
       "</style>\n",
       "<table border=\"1\" class=\"dataframe\">\n",
       "  <thead>\n",
       "    <tr style=\"text-align: right;\">\n",
       "      <th></th>\n",
       "      <th>Product ID</th>\n",
       "      <th>Type</th>\n",
       "      <th>Air temperature [K]</th>\n",
       "      <th>Process temperature [K]</th>\n",
       "      <th>Rotational speed [rpm]</th>\n",
       "      <th>Torque [Nm]</th>\n",
       "      <th>Tool wear [min]</th>\n",
       "      <th>Machine failure</th>\n",
       "      <th>TWF</th>\n",
       "      <th>HDF</th>\n",
       "      <th>PWF</th>\n",
       "      <th>OSF</th>\n",
       "      <th>RNF</th>\n",
       "    </tr>\n",
       "  </thead>\n",
       "  <tbody>\n",
       "    <tr>\n",
       "      <th>0</th>\n",
       "      <td>L50096</td>\n",
       "      <td>L</td>\n",
       "      <td>300.6</td>\n",
       "      <td>309.6</td>\n",
       "      <td>1596</td>\n",
       "      <td>36.1</td>\n",
       "      <td>140</td>\n",
       "      <td>0</td>\n",
       "      <td>0</td>\n",
       "      <td>0</td>\n",
       "      <td>0</td>\n",
       "      <td>0</td>\n",
       "      <td>0</td>\n",
       "    </tr>\n",
       "    <tr>\n",
       "      <th>1</th>\n",
       "      <td>M20343</td>\n",
       "      <td>M</td>\n",
       "      <td>302.6</td>\n",
       "      <td>312.1</td>\n",
       "      <td>1759</td>\n",
       "      <td>29.1</td>\n",
       "      <td>200</td>\n",
       "      <td>0</td>\n",
       "      <td>0</td>\n",
       "      <td>0</td>\n",
       "      <td>0</td>\n",
       "      <td>0</td>\n",
       "      <td>0</td>\n",
       "    </tr>\n",
       "    <tr>\n",
       "      <th>2</th>\n",
       "      <td>L49454</td>\n",
       "      <td>L</td>\n",
       "      <td>299.3</td>\n",
       "      <td>308.5</td>\n",
       "      <td>1805</td>\n",
       "      <td>26.5</td>\n",
       "      <td>25</td>\n",
       "      <td>0</td>\n",
       "      <td>0</td>\n",
       "      <td>0</td>\n",
       "      <td>0</td>\n",
       "      <td>0</td>\n",
       "      <td>0</td>\n",
       "    </tr>\n",
       "    <tr>\n",
       "      <th>3</th>\n",
       "      <td>L53355</td>\n",
       "      <td>L</td>\n",
       "      <td>301.0</td>\n",
       "      <td>310.9</td>\n",
       "      <td>1524</td>\n",
       "      <td>44.3</td>\n",
       "      <td>197</td>\n",
       "      <td>0</td>\n",
       "      <td>0</td>\n",
       "      <td>0</td>\n",
       "      <td>0</td>\n",
       "      <td>0</td>\n",
       "      <td>0</td>\n",
       "    </tr>\n",
       "    <tr>\n",
       "      <th>4</th>\n",
       "      <td>M24050</td>\n",
       "      <td>M</td>\n",
       "      <td>298.0</td>\n",
       "      <td>309.0</td>\n",
       "      <td>1641</td>\n",
       "      <td>35.4</td>\n",
       "      <td>34</td>\n",
       "      <td>0</td>\n",
       "      <td>0</td>\n",
       "      <td>0</td>\n",
       "      <td>0</td>\n",
       "      <td>0</td>\n",
       "      <td>0</td>\n",
       "    </tr>\n",
       "    <tr>\n",
       "      <th>...</th>\n",
       "      <td>...</td>\n",
       "      <td>...</td>\n",
       "      <td>...</td>\n",
       "      <td>...</td>\n",
       "      <td>...</td>\n",
       "      <td>...</td>\n",
       "      <td>...</td>\n",
       "      <td>...</td>\n",
       "      <td>...</td>\n",
       "      <td>...</td>\n",
       "      <td>...</td>\n",
       "      <td>...</td>\n",
       "      <td>...</td>\n",
       "    </tr>\n",
       "    <tr>\n",
       "      <th>9995</th>\n",
       "      <td>M24855</td>\n",
       "      <td>M</td>\n",
       "      <td>298.8</td>\n",
       "      <td>308.4</td>\n",
       "      <td>1604</td>\n",
       "      <td>29.5</td>\n",
       "      <td>14</td>\n",
       "      <td>0</td>\n",
       "      <td>0</td>\n",
       "      <td>0</td>\n",
       "      <td>0</td>\n",
       "      <td>0</td>\n",
       "      <td>0</td>\n",
       "    </tr>\n",
       "    <tr>\n",
       "      <th>9996</th>\n",
       "      <td>H39410</td>\n",
       "      <td>H</td>\n",
       "      <td>298.9</td>\n",
       "      <td>308.4</td>\n",
       "      <td>1632</td>\n",
       "      <td>31.8</td>\n",
       "      <td>17</td>\n",
       "      <td>0</td>\n",
       "      <td>0</td>\n",
       "      <td>0</td>\n",
       "      <td>0</td>\n",
       "      <td>0</td>\n",
       "      <td>0</td>\n",
       "    </tr>\n",
       "    <tr>\n",
       "      <th>9997</th>\n",
       "      <td>M24857</td>\n",
       "      <td>M</td>\n",
       "      <td>299.0</td>\n",
       "      <td>308.6</td>\n",
       "      <td>1645</td>\n",
       "      <td>33.4</td>\n",
       "      <td>22</td>\n",
       "      <td>0</td>\n",
       "      <td>0</td>\n",
       "      <td>0</td>\n",
       "      <td>0</td>\n",
       "      <td>0</td>\n",
       "      <td>0</td>\n",
       "    </tr>\n",
       "    <tr>\n",
       "      <th>9998</th>\n",
       "      <td>H39412</td>\n",
       "      <td>H</td>\n",
       "      <td>299.0</td>\n",
       "      <td>308.7</td>\n",
       "      <td>1408</td>\n",
       "      <td>48.5</td>\n",
       "      <td>25</td>\n",
       "      <td>0</td>\n",
       "      <td>0</td>\n",
       "      <td>0</td>\n",
       "      <td>0</td>\n",
       "      <td>0</td>\n",
       "      <td>0</td>\n",
       "    </tr>\n",
       "    <tr>\n",
       "      <th>9999</th>\n",
       "      <td>M24859</td>\n",
       "      <td>M</td>\n",
       "      <td>299.0</td>\n",
       "      <td>308.7</td>\n",
       "      <td>1500</td>\n",
       "      <td>40.2</td>\n",
       "      <td>30</td>\n",
       "      <td>0</td>\n",
       "      <td>0</td>\n",
       "      <td>0</td>\n",
       "      <td>0</td>\n",
       "      <td>0</td>\n",
       "      <td>0</td>\n",
       "    </tr>\n",
       "  </tbody>\n",
       "</table>\n",
       "<p>146429 rows × 13 columns</p>\n",
       "</div>"
      ],
      "text/plain": [
       "     Product ID Type  Air temperature [K]  Process temperature [K]  \\\n",
       "0        L50096    L                300.6                    309.6   \n",
       "1        M20343    M                302.6                    312.1   \n",
       "2        L49454    L                299.3                    308.5   \n",
       "3        L53355    L                301.0                    310.9   \n",
       "4        M24050    M                298.0                    309.0   \n",
       "...         ...  ...                  ...                      ...   \n",
       "9995     M24855    M                298.8                    308.4   \n",
       "9996     H39410    H                298.9                    308.4   \n",
       "9997     M24857    M                299.0                    308.6   \n",
       "9998     H39412    H                299.0                    308.7   \n",
       "9999     M24859    M                299.0                    308.7   \n",
       "\n",
       "      Rotational speed [rpm]  Torque [Nm]  Tool wear [min]  Machine failure  \\\n",
       "0                       1596         36.1              140                0   \n",
       "1                       1759         29.1              200                0   \n",
       "2                       1805         26.5               25                0   \n",
       "3                       1524         44.3              197                0   \n",
       "4                       1641         35.4               34                0   \n",
       "...                      ...          ...              ...              ...   \n",
       "9995                    1604         29.5               14                0   \n",
       "9996                    1632         31.8               17                0   \n",
       "9997                    1645         33.4               22                0   \n",
       "9998                    1408         48.5               25                0   \n",
       "9999                    1500         40.2               30                0   \n",
       "\n",
       "      TWF  HDF  PWF  OSF  RNF  \n",
       "0       0    0    0    0    0  \n",
       "1       0    0    0    0    0  \n",
       "2       0    0    0    0    0  \n",
       "3       0    0    0    0    0  \n",
       "4       0    0    0    0    0  \n",
       "...   ...  ...  ...  ...  ...  \n",
       "9995    0    0    0    0    0  \n",
       "9996    0    0    0    0    0  \n",
       "9997    0    0    0    0    0  \n",
       "9998    0    0    0    0    0  \n",
       "9999    0    0    0    0    0  \n",
       "\n",
       "[146429 rows x 13 columns]"
      ]
     },
     "execution_count": 6,
     "metadata": {},
     "output_type": "execute_result"
    }
   ],
   "source": [
    "df"
   ]
  },
  {
   "cell_type": "code",
   "execution_count": null,
   "id": "48294b88",
   "metadata": {},
   "outputs": [],
   "source": []
  },
  {
   "cell_type": "code",
   "execution_count": 7,
   "id": "3e294557",
   "metadata": {},
   "outputs": [
    {
     "data": {
      "text/plain": [
       "0"
      ]
     },
     "execution_count": 7,
     "metadata": {},
     "output_type": "execute_result"
    }
   ],
   "source": [
    "df.isnull().sum().sum()## 0 Null values"
   ]
  },
  {
   "cell_type": "code",
   "execution_count": null,
   "id": "16aff513",
   "metadata": {
    "scrolled": true
   },
   "outputs": [],
   "source": []
  },
  {
   "cell_type": "code",
   "execution_count": 8,
   "id": "e1cb67c0",
   "metadata": {},
   "outputs": [
    {
     "data": {
      "text/plain": [
       "array([[<Axes: title={'center': 'Air temperature [K]'}>,\n",
       "        <Axes: title={'center': 'Rotational speed [rpm]'}>],\n",
       "       [<Axes: title={'center': 'Torque [Nm]'}>,\n",
       "        <Axes: title={'center': 'Tool wear [min]'}>]], dtype=object)"
      ]
     },
     "execution_count": 8,
     "metadata": {},
     "output_type": "execute_result"
    },
    {
     "data": {
      "image/png": "[encoded data removed]",
      "text/plain": [
       "<Figure size 1600x900 with 4 Axes>"
      ]
     },
     "metadata": {},
     "output_type": "display_data"
    }
   ],
   "source": [
    "df[['Air temperature [K]', 'Rotational speed [rpm]', 'Torque [Nm]' , 'Tool wear [min]']].hist(figsize = (16,9))"
   ]
  },
  {
   "cell_type": "code",
   "execution_count": 9,
   "id": "03fd5274",
   "metadata": {},
   "outputs": [
    {
     "data": {
      "text/plain": [
       "<Axes: xlabel='Machine failure', ylabel='Process temperature [K]'>"
      ]
     },
     "execution_count": 9,
     "metadata": {},
     "output_type": "execute_result"
    },
    {
     "data": {
      "image/png": "[encoded data removed]",
      "text/plain": [
       "<Figure size 640x480 with 1 Axes>"
      ]
     },
     "metadata": {},
     "output_type": "display_data"
    }
   ],
   "source": [
    "sns.boxplot(y = df['Process temperature [K]'], x = df['Machine failure'],palette=\"Set1\") ##temperatura média mais alta onde ocorre machine failure"
   ]
  },
  {
   "cell_type": "code",
   "execution_count": 10,
   "id": "624c46d0",
   "metadata": {},
   "outputs": [
    {
     "data": {
      "text/plain": [
       "<Axes: xlabel='Machine failure', ylabel='Air temperature [K]'>"
      ]
     },
     "execution_count": 10,
     "metadata": {},
     "output_type": "execute_result"
    },
    {
     "data": {
      "image/png": "[encoded data removed]",
      "text/plain": [
       "<Figure size 640x480 with 1 Axes>"
      ]
     },
     "metadata": {},
     "output_type": "display_data"
    }
   ],
   "source": [
    "sns.boxplot(y = df['Air temperature [K]'], x = df['Machine failure'],palette=\"Set1\") ##temperatura média mais alta onde ocorre machine failure"
   ]
  },
  {
   "cell_type": "code",
   "execution_count": 11,
   "id": "e5a7cbc4",
   "metadata": {},
   "outputs": [
    {
     "data": {
      "text/plain": [
       "<Axes: xlabel='Machine failure', ylabel='Rotational speed [rpm]'>"
      ]
     },
     "execution_count": 11,
     "metadata": {},
     "output_type": "execute_result"
    },
    {
     "data": {
      "image/png": "[encoded data removed]",
      "text/plain": [
       "<Figure size 640x480 with 1 Axes>"
      ]
     },
     "metadata": {},
     "output_type": "display_data"
    }
   ],
   "source": [
    "sns.boxplot(y = df['Rotational speed [rpm]'], x = df['Machine failure'],palette=\"Set1\") ##velocidade média mais baixa onde ocorre machine failure"
   ]
  },
  {
   "cell_type": "code",
   "execution_count": 12,
   "id": "e07425cc",
   "metadata": {},
   "outputs": [
    {
     "data": {
      "text/plain": [
       "<Axes: xlabel='Machine failure', ylabel='Torque [Nm]'>"
      ]
     },
     "execution_count": 12,
     "metadata": {},
     "output_type": "execute_result"
    },
    {
     "data": {
      "image/png": "[encoded data removed]",
      "text/plain": [
       "<Figure size 640x480 with 1 Axes>"
      ]
     },
     "metadata": {},
     "output_type": "display_data"
    }
   ],
   "source": [
    "sns.boxplot(y = df['Torque [Nm]'], x = df['Machine failure'],palette=\"Set1\")##torque médio mais alto onde ocorre machine failure"
   ]
  },
  {
   "cell_type": "code",
   "execution_count": 13,
   "id": "18cbb688",
   "metadata": {},
   "outputs": [
    {
     "data": {
      "text/plain": [
       "<Axes: xlabel='Machine failure', ylabel='Tool wear [min]'>"
      ]
     },
     "execution_count": 13,
     "metadata": {},
     "output_type": "execute_result"
    },
    {
     "data": {
      "image/png": "[encoded data removed]",
      "text/plain": [
       "<Figure size 640x480 with 1 Axes>"
      ]
     },
     "metadata": {},
     "output_type": "display_data"
    }
   ],
   "source": [
    "sns.boxplot(y = df['Tool wear [min]'], x = df['Machine failure'],palette=\"Set1\") ##Tool Wear mais alto onde ocorre machine failure"
   ]
  },
  {
   "cell_type": "code",
   "execution_count": 14,
   "id": "28d37562",
   "metadata": {},
   "outputs": [
    {
     "data": {
      "text/plain": [
       "TWF\n",
       "0    0.015249\n",
       "1    1.000000\n",
       "Name: mean, dtype: float64"
      ]
     },
     "execution_count": 14,
     "metadata": {},
     "output_type": "execute_result"
    }
   ],
   "source": [
    "df.groupby('TWF').describe()['Machine failure']['mean']###só acontece erro TWF = 1."
   ]
  },
  {
   "cell_type": "code",
   "execution_count": 15,
   "id": "48537b91",
   "metadata": {},
   "outputs": [
    {
     "data": {
      "text/plain": [
       "HDF\n",
       "0    0.011496\n",
       "1    0.992674\n",
       "Name: mean, dtype: float64"
      ]
     },
     "execution_count": 15,
     "metadata": {},
     "output_type": "execute_result"
    }
   ],
   "source": [
    "df.groupby('HDF').describe()['Machine failure']['mean']###mais provavel erro HDF = 1"
   ]
  },
  {
   "cell_type": "code",
   "execution_count": 16,
   "id": "ff40f8b0",
   "metadata": {},
   "outputs": [
    {
     "data": {
      "text/plain": [
       "PWF\n",
       "0    0.014164\n",
       "1    0.992891\n",
       "Name: mean, dtype: float64"
      ]
     },
     "execution_count": 16,
     "metadata": {},
     "output_type": "execute_result"
    }
   ],
   "source": [
    "df.groupby('PWF').describe()['Machine failure']['mean']###muito mais provavel erro PWF = 1"
   ]
  },
  {
   "cell_type": "code",
   "execution_count": 17,
   "id": "c0088b6d",
   "metadata": {},
   "outputs": [
    {
     "data": {
      "text/plain": [
       "OSF\n",
       "0    0.01271\n",
       "1    0.99373\n",
       "Name: mean, dtype: float64"
      ]
     },
     "execution_count": 17,
     "metadata": {},
     "output_type": "execute_result"
    }
   ],
   "source": [
    "df.groupby('OSF').describe()['Machine failure']['mean']###mais provavel erro OSF = 1"
   ]
  },
  {
   "cell_type": "code",
   "execution_count": 18,
   "id": "b1cbfed8",
   "metadata": {},
   "outputs": [
    {
     "data": {
      "text/plain": [
       "RNF\n",
       "0    0.016974\n",
       "1    0.021407\n",
       "Name: mean, dtype: float64"
      ]
     },
     "execution_count": 18,
     "metadata": {},
     "output_type": "execute_result"
    }
   ],
   "source": [
    "df.groupby('RNF').describe()['Machine failure']['mean']###parece similar os valores"
   ]
  },
  {
   "cell_type": "code",
   "execution_count": 19,
   "id": "0a222f15",
   "metadata": {},
   "outputs": [
    {
     "data": {
      "text/plain": [
       "Text(0, 0.5, 'Machine failure Mean')"
      ]
     },
     "execution_count": 19,
     "metadata": {},
     "output_type": "execute_result"
    },
    {
     "data": {
      "image/png": "[encoded data removed]",
      "text/plain": [
       "<Figure size 640x480 with 1 Axes>"
      ]
     },
     "metadata": {},
     "output_type": "display_data"
    }
   ],
   "source": [
    "plotdf = df.groupby('TWF').describe()['Machine failure']['mean']\n",
    "values = plotdf.values\n",
    "index = plotdf.index\n",
    "\n",
    "sns.barplot(x = index, y = values,palette=\"Set1\")\n",
    "plt.ylabel('Machine failure Mean') ###if twf = 1 so machine failure = 1"
   ]
  },
  {
   "cell_type": "code",
   "execution_count": 20,
   "id": "2be3c51a",
   "metadata": {},
   "outputs": [
    {
     "data": {
      "text/plain": [
       "Text(0, 0.5, 'Machine failure Mean')"
      ]
     },
     "execution_count": 20,
     "metadata": {},
     "output_type": "execute_result"
    },
    {
     "data": {
      "image/png": "[encoded data removed]",
      "text/plain": [
       "<Figure size 640x480 with 1 Axes>"
      ]
     },
     "metadata": {},
     "output_type": "display_data"
    }
   ],
   "source": [
    "plotdf = df.groupby('HDF').describe()['Machine failure']['mean']\n",
    "values = plotdf.values\n",
    "index = plotdf.index\n",
    "\n",
    "sns.barplot(x = index, y = values,palette=\"Set1\")\n",
    "plt.ylabel('Machine failure Mean') ###if HDF = 1 so machine failure = 1 , high probability*"
   ]
  },
  {
   "cell_type": "code",
   "execution_count": 21,
   "id": "685a1c52",
   "metadata": {},
   "outputs": [
    {
     "data": {
      "text/plain": [
       "Text(0, 0.5, 'Machine failure Mean')"
      ]
     },
     "execution_count": 21,
     "metadata": {},
     "output_type": "execute_result"
    },
    {
     "data": {
      "image/png": "[encoded data removed]",
      "text/plain": [
       "<Figure size 640x480 with 1 Axes>"
      ]
     },
     "metadata": {},
     "output_type": "display_data"
    }
   ],
   "source": [
    "plotdf = df.groupby('PWF').describe()['Machine failure']['mean']\n",
    "values = plotdf.values\n",
    "index = plotdf.index\n",
    "\n",
    "sns.barplot(x = index, y = values,palette=\"Set1\")\n",
    "plt.ylabel('Machine failure Mean') ###if PWF = 1 highly probability machine failure = 1,"
   ]
  },
  {
   "cell_type": "code",
   "execution_count": 22,
   "id": "fd02d500",
   "metadata": {},
   "outputs": [
    {
     "data": {
      "text/plain": [
       "Text(0, 0.5, 'Machine failure Mean')"
      ]
     },
     "execution_count": 22,
     "metadata": {},
     "output_type": "execute_result"
    },
    {
     "data": {
      "image/png": "[encoded data removed]",
      "text/plain": [
       "<Figure size 640x480 with 1 Axes>"
      ]
     },
     "metadata": {},
     "output_type": "display_data"
    }
   ],
   "source": [
    "plotdf = df.groupby('OSF').describe()['Machine failure']['mean']\n",
    "values = plotdf.values\n",
    "index = plotdf.index\n",
    "\n",
    "sns.barplot(x = index, y = values,palette=\"Set1\")\n",
    "plt.ylabel('Machine failure Mean',)"
   ]
  },
  {
   "cell_type": "code",
   "execution_count": 23,
   "id": "740ec2b4",
   "metadata": {},
   "outputs": [
    {
     "data": {
      "text/plain": [
       "Text(0, 0.5, 'Machine failure Mean')"
      ]
     },
     "execution_count": 23,
     "metadata": {},
     "output_type": "execute_result"
    },
    {
     "data": {
      "image/png": "[encoded data removed]",
      "text/plain": [
       "<Figure size 640x480 with 1 Axes>"
      ]
     },
     "metadata": {},
     "output_type": "display_data"
    }
   ],
   "source": [
    "plotdf = df.groupby('RNF').describe()['Machine failure']['mean']\n",
    "values = plotdf.values\n",
    "index = plotdf.index\n",
    "\n",
    "sns.barplot(x = index, y = values,palette=\"Set1\")\n",
    "plt.ylabel('Machine failure Mean')"
   ]
  },
  {
   "cell_type": "code",
   "execution_count": 24,
   "id": "92963368",
   "metadata": {},
   "outputs": [
    {
     "data": {
      "text/plain": [
       "Index(['Product ID', 'Type', 'Air temperature [K]', 'Process temperature [K]',\n",
       "       'Rotational speed [rpm]', 'Torque [Nm]', 'Tool wear [min]',\n",
       "       'Machine failure', 'TWF', 'HDF', 'PWF', 'OSF', 'RNF'],\n",
       "      dtype='object')"
      ]
     },
     "execution_count": 24,
     "metadata": {},
     "output_type": "execute_result"
    }
   ],
   "source": [
    "df.columns"
   ]
  },
  {
   "cell_type": "code",
   "execution_count": 25,
   "id": "0088110d",
   "metadata": {},
   "outputs": [],
   "source": [
    "machinfailure1 = df[df['Machine failure'] == 1][['TWF', 'HDF', 'PWF', 'OSF', 'RNF', 'Machine failure']]\n",
    "a=machinfailure1"
   ]
  },
  {
   "cell_type": "code",
   "execution_count": 26,
   "id": "0c0c1770",
   "metadata": {},
   "outputs": [],
   "source": [
    "twfhdfpwfosf1 = a[(a['TWF'] == 1) | (a['HDF'] == 1) | (a['PWF'] == 1) | (a['OSF'] == 1)]"
   ]
  },
  {
   "cell_type": "code",
   "execution_count": 27,
   "id": "663a34e1",
   "metadata": {},
   "outputs": [
    {
     "data": {
      "text/plain": [
       "0.792119018898271"
      ]
     },
     "execution_count": 27,
     "metadata": {},
     "output_type": "execute_result"
    }
   ],
   "source": [
    "#len(machinfailure1), len(twfhdfpwfosf1), \n",
    "ratiotwfhdfpwfosf1erro = len(twfhdfpwfosf1)/len(machinfailure1)\n",
    "ratiotwfhdfpwfosf1erro"
   ]
  },
  {
   "cell_type": "code",
   "execution_count": 28,
   "id": "98627450",
   "metadata": {},
   "outputs": [
    {
     "data": {
      "text/plain": [
       "Text(0, 0.5, 'Machine Failure Ratio')"
      ]
     },
     "execution_count": 28,
     "metadata": {},
     "output_type": "execute_result"
    },
    {
     "data": {
      "image/png": "[encoded data removed]",
      "text/plain": [
       "<Figure size 640x480 with 1 Axes>"
      ]
     },
     "metadata": {},
     "output_type": "display_data"
    }
   ],
   "source": [
    "\n",
    "values = [ratiotwfhdfpwfosf1erro, 1-ratiotwfhdfpwfosf1erro]\n",
    "index = [1, 0]\n",
    "\n",
    "sns.barplot(x = index, y = values, palette=\"Set1\")\n",
    "plt.xlabel('TWF or HDF or PWF or OSF = 1')\n",
    "plt.ylabel('Machine Failure Ratio')"
   ]
  },
  {
   "cell_type": "code",
   "execution_count": 29,
   "id": "c37bb0c4",
   "metadata": {},
   "outputs": [
    {
     "name": "stdout",
     "output_type": "stream",
     "text": [
      " machine failureType\n",
      "H    1.380214\n",
      "L    1.805553\n",
      "M    1.479416\n",
      "Name: mean, dtype: float64\n"
     ]
    }
   ],
   "source": [
    "values = df.groupby('Type').describe()['Machine failure']['mean']\n",
    "print(f' machine failure{100*values}') ###chance de machine failure\n"
   ]
  },
  {
   "cell_type": "code",
   "execution_count": 30,
   "id": "2f362572",
   "metadata": {},
   "outputs": [
    {
     "data": {
      "text/plain": [
       "<Axes: xlabel='Type', ylabel='Machine failure'>"
      ]
     },
     "execution_count": 30,
     "metadata": {},
     "output_type": "execute_result"
    },
    {
     "data": {
      "image/png": "[encoded data removed]",
      "text/plain": [
       "<Figure size 640x480 with 1 Axes>"
      ]
     },
     "metadata": {},
     "output_type": "display_data"
    }
   ],
   "source": [
    "sns.barplot(y = df['Machine failure'] , x = df['Type']) ### Maquinas L maior chance de quebra Maquinas H menor"
   ]
  },
  {
   "cell_type": "code",
   "execution_count": null,
   "id": "88cd23fd",
   "metadata": {},
   "outputs": [],
   "source": []
  },
  {
   "cell_type": "code",
   "execution_count": null,
   "id": "7222b54e",
   "metadata": {},
   "outputs": [],
   "source": []
  },
  {
   "cell_type": "code",
   "execution_count": null,
   "id": "ea2c7def",
   "metadata": {},
   "outputs": [],
   "source": []
  },
  {
   "cell_type": "code",
   "execution_count": null,
   "id": "97b1532e",
   "metadata": {},
   "outputs": [],
   "source": []
  },
  {
   "cell_type": "code",
   "execution_count": null,
   "id": "61156362",
   "metadata": {},
   "outputs": [],
   "source": []
  },
  {
   "cell_type": "code",
   "execution_count": null,
   "id": "680a8942",
   "metadata": {},
   "outputs": [],
   "source": []
  },
  {
   "cell_type": "code",
   "execution_count": null,
   "id": "7a6d97e2",
   "metadata": {},
   "outputs": [],
   "source": []
  },
  {
   "cell_type": "code",
   "execution_count": null,
   "id": "7d5ab349",
   "metadata": {},
   "outputs": [],
   "source": []
  },
  {
   "cell_type": "code",
   "execution_count": null,
   "id": "35264922",
   "metadata": {},
   "outputs": [],
   "source": []
  },
  {
   "cell_type": "markdown",
   "id": "fd5732ad",
   "metadata": {},
   "source": [
    "### Conclusão\n",
    "* se TWF ou HDF ou PWF ou OSF forem 1 quase certo a chance de ocorrer erro.\n",
    "79% das machine failure tem algum deles igual 1\n",
    "* pode ocorrer erro se todos forem 0  ocorre em 21% dos casos\n",
    "* RNF não parece ter tanta influência comparado aos outros , porém é mais provavel quando é 1\n",
    "* Temperatura média mais alta onde ocorre machine failure \n",
    "* Velocidade média mais baixa onde ocorre machine failure\n",
    "* Torque médio mais alto onde ocorre machine failure\n",
    "* Tool Wear mais alto onde ocorre machine failure\n",
    "\n",
    "* tipos maquinas chance de quebra maquinas L tem chance de quebra com 1.8% de chance, M 1.47%, H 1.38% chance\n"
   ]
  },
  {
   "cell_type": "code",
   "execution_count": 31,
   "id": "ec9e247a",
   "metadata": {},
   "outputs": [
    {
     "data": {
      "text/plain": [
       "L53257    140\n",
       "L53271    132\n",
       "L49056    132\n",
       "L48892    121\n",
       "L54275    121\n",
       "         ... \n",
       "H31308      1\n",
       "L48159      1\n",
       "M15753      1\n",
       "M14860      1\n",
       "M24818      1\n",
       "Name: Product ID, Length: 10000, dtype: int64"
      ]
     },
     "execution_count": 31,
     "metadata": {},
     "output_type": "execute_result"
    }
   ],
   "source": [
    "df['Product ID'].value_counts()"
   ]
  },
  {
   "cell_type": "code",
   "execution_count": 32,
   "id": "000832fc",
   "metadata": {},
   "outputs": [],
   "source": [
    "machinfailure1 = df[df['Machine failure'] == 1]\n",
    "dferro = machinfailure1['Product ID'].value_counts() ##ID das maquinas que ocorreram erro\n",
    "values = machinfailure1['Product ID'].values \n",
    "dftotal = df[df['Product ID'].isin(values)]['Product ID'].value_counts() ###criar um dataframe apenas com as que tem o\n",
    "#ID das maquinas com erros"
   ]
  },
  {
   "cell_type": "code",
   "execution_count": 33,
   "id": "23fdc813",
   "metadata": {},
   "outputs": [],
   "source": [
    "dftotal = dftotal.to_frame()"
   ]
  },
  {
   "cell_type": "code",
   "execution_count": 34,
   "id": "53224101",
   "metadata": {},
   "outputs": [],
   "source": [
    "dferro = dferro.to_frame()"
   ]
  },
  {
   "cell_type": "code",
   "execution_count": 35,
   "id": "422dbda2",
   "metadata": {},
   "outputs": [],
   "source": [
    "dftotalerro = pd.merge(dftotal, dferro, left_index=True, right_index=True)"
   ]
  },
  {
   "cell_type": "code",
   "execution_count": 36,
   "id": "771fec35",
   "metadata": {},
   "outputs": [],
   "source": [
    "dftotalerro['ratio'] = dftotalerro['Product ID_y']/dftotalerro['Product ID_x']"
   ]
  },
  {
   "cell_type": "code",
   "execution_count": 37,
   "id": "0273d573",
   "metadata": {},
   "outputs": [],
   "source": [
    "dftotalerro10pls = dftotalerro[dftotalerro['Product ID_x'] > 9] ###+de 10 ou = valores erro"
   ]
  },
  {
   "cell_type": "code",
   "execution_count": 38,
   "id": "6a4bc775",
   "metadata": {},
   "outputs": [
    {
     "data": {
      "text/html": [
       "<div>\n",
       "<style scoped>\n",
       "    .dataframe tbody tr th:only-of-type {\n",
       "        vertical-align: middle;\n",
       "    }\n",
       "\n",
       "    .dataframe tbody tr th {\n",
       "        vertical-align: top;\n",
       "    }\n",
       "\n",
       "    .dataframe thead th {\n",
       "        text-align: right;\n",
       "    }\n",
       "</style>\n",
       "<table border=\"1\" class=\"dataframe\">\n",
       "  <thead>\n",
       "    <tr style=\"text-align: right;\">\n",
       "      <th></th>\n",
       "      <th>Product ID_x</th>\n",
       "      <th>Product ID_y</th>\n",
       "      <th>ratio</th>\n",
       "    </tr>\n",
       "  </thead>\n",
       "  <tbody>\n",
       "    <tr>\n",
       "      <th>L53257</th>\n",
       "      <td>140</td>\n",
       "      <td>4</td>\n",
       "      <td>0.028571</td>\n",
       "    </tr>\n",
       "    <tr>\n",
       "      <th>L53271</th>\n",
       "      <td>132</td>\n",
       "      <td>6</td>\n",
       "      <td>0.045455</td>\n",
       "    </tr>\n",
       "    <tr>\n",
       "      <th>L54275</th>\n",
       "      <td>121</td>\n",
       "      <td>2</td>\n",
       "      <td>0.016529</td>\n",
       "    </tr>\n",
       "    <tr>\n",
       "      <th>L53258</th>\n",
       "      <td>118</td>\n",
       "      <td>20</td>\n",
       "      <td>0.169492</td>\n",
       "    </tr>\n",
       "    <tr>\n",
       "      <th>L54255</th>\n",
       "      <td>109</td>\n",
       "      <td>1</td>\n",
       "      <td>0.009174</td>\n",
       "    </tr>\n",
       "    <tr>\n",
       "      <th>...</th>\n",
       "      <td>...</td>\n",
       "      <td>...</td>\n",
       "      <td>...</td>\n",
       "    </tr>\n",
       "    <tr>\n",
       "      <th>L51759</th>\n",
       "      <td>10</td>\n",
       "      <td>4</td>\n",
       "      <td>0.400000</td>\n",
       "    </tr>\n",
       "    <tr>\n",
       "      <th>L51790</th>\n",
       "      <td>10</td>\n",
       "      <td>1</td>\n",
       "      <td>0.100000</td>\n",
       "    </tr>\n",
       "    <tr>\n",
       "      <th>L51054</th>\n",
       "      <td>10</td>\n",
       "      <td>1</td>\n",
       "      <td>0.100000</td>\n",
       "    </tr>\n",
       "    <tr>\n",
       "      <th>L55372</th>\n",
       "      <td>10</td>\n",
       "      <td>1</td>\n",
       "      <td>0.100000</td>\n",
       "    </tr>\n",
       "    <tr>\n",
       "      <th>L49678</th>\n",
       "      <td>10</td>\n",
       "      <td>1</td>\n",
       "      <td>0.100000</td>\n",
       "    </tr>\n",
       "  </tbody>\n",
       "</table>\n",
       "<p>1047 rows × 3 columns</p>\n",
       "</div>"
      ],
      "text/plain": [
       "        Product ID_x  Product ID_y     ratio\n",
       "L53257           140             4  0.028571\n",
       "L53271           132             6  0.045455\n",
       "L54275           121             2  0.016529\n",
       "L53258           118            20  0.169492\n",
       "L54255           109             1  0.009174\n",
       "...              ...           ...       ...\n",
       "L51759            10             4  0.400000\n",
       "L51790            10             1  0.100000\n",
       "L51054            10             1  0.100000\n",
       "L55372            10             1  0.100000\n",
       "L49678            10             1  0.100000\n",
       "\n",
       "[1047 rows x 3 columns]"
      ]
     },
     "execution_count": 38,
     "metadata": {},
     "output_type": "execute_result"
    }
   ],
   "source": [
    "dftotalerro10pls"
   ]
  },
  {
   "cell_type": "code",
   "execution_count": 39,
   "id": "19fe27e7",
   "metadata": {},
   "outputs": [],
   "source": [
    "dftotalerro10plsratio01 = dftotalerro10pls[dftotalerro10pls['ratio'] >= 0.1] \n",
    "###valores com chance de erro >= ou 0.1 alta chance de erro e com + de 10 valores"
   ]
  },
  {
   "cell_type": "code",
   "execution_count": 40,
   "id": "56f0f49c",
   "metadata": {
    "scrolled": true
   },
   "outputs": [
    {
     "data": {
      "text/plain": [
       "1211"
      ]
     },
     "execution_count": 40,
     "metadata": {},
     "output_type": "execute_result"
    }
   ],
   "source": [
    "dftotalerro10plsratio01['Product ID_y'].sum() ###mais da metade dos erro"
   ]
  },
  {
   "cell_type": "code",
   "execution_count": 41,
   "id": "8cb95278",
   "metadata": {},
   "outputs": [
    {
     "name": "stdout",
     "output_type": "stream",
     "text": [
      " maquinas com 10% ou mais chance de problemas causam 48.699999999999996% dos casos\n"
     ]
    }
   ],
   "source": [
    "print(f\" maquinas com 10% ou mais chance de problemas causam {100*round(dftotalerro10plsratio01['Product ID_y'].sum()/df['Machine failure'].sum(),3)}% dos casos\")\n"
   ]
  },
  {
   "cell_type": "markdown",
   "id": "28b975dc",
   "metadata": {},
   "source": [
    "### Novas Colunas "
   ]
  },
  {
   "cell_type": "code",
   "execution_count": 42,
   "id": "ffc7d863",
   "metadata": {},
   "outputs": [],
   "source": [
    "###criar uma coluna com os esses separando essas maquinas com problemas mais frequentes\n",
    "\n",
    "dftotalerro10plsratio01 = dftotalerro10pls[dftotalerro10pls['ratio'] >= 0.1] \n",
    "df['totalerro10plsratio01'] = df['Product ID'].isin(dftotalerro10plsratio01.index).astype(int) #10%\n",
    "test['totalerro10plsratio01'] = test['Product ID'].isin(dftotalerro10plsratio01.index).astype(int) #10%\n",
    "\n",
    "\n",
    "dftotalerro10plsratio02 = dftotalerro10pls[dftotalerro10pls['ratio'] >= 0.2] \n",
    "df['totalerro10plsratio02'] = df['Product ID'].isin(dftotalerro10plsratio02.index).astype(int) #20%\n",
    "test['totalerro10plsratio02'] = test['Product ID'].isin(dftotalerro10plsratio02.index).astype(int) #20%\n",
    "\n",
    "dftotalerro10plsratio03 = dftotalerro10pls[dftotalerro10pls['ratio'] >= 0.3] \n",
    "df['totalerro10plsratio03'] = df['Product ID'].isin(dftotalerro10plsratio03.index).astype(int) #30\n",
    "test['totalerro10plsratio03'] = test['Product ID'].isin(dftotalerro10plsratio03.index).astype(int) #30\n",
    "\n",
    "dftotalerro10plsratio04 = dftotalerro10pls[dftotalerro10pls['ratio'] >= 0.4] \n",
    "df['totalerro10plsratio04'] = df['Product ID'].isin(dftotalerro10plsratio04.index).astype(int) #40\n",
    "test['totalerro10plsratio04'] = test['Product ID'].isin(dftotalerro10plsratio04.index).astype(int) #40\n",
    "\n",
    "dftotalerro10plsratio05 = dftotalerro10pls[dftotalerro10pls['ratio'] >= 0.5] \n",
    "df['totalerro10plsratio05'] = df['Product ID'].isin(dftotalerro10plsratio05.index).astype(int) #50\n",
    "test['totalerro10plsratio05'] = test['Product ID'].isin(dftotalerro10plsratio05.index).astype(int) #50\n",
    "\n",
    "dftotalerro10plsratio06 = dftotalerro10pls[dftotalerro10pls['ratio'] >= 0.6] \n",
    "df['totalerro10plsratio06'] = df['Product ID'].isin(dftotalerro10plsratio06.index).astype(int) #60\n",
    "test['totalerro10plsratio06'] = test['Product ID'].isin(dftotalerro10plsratio06.index).astype(int) #60\n",
    "##não tem acima de 0.7\n",
    "\n",
    "Typemap = {'L' : 0 , 'M' : 1, 'H' : 2}\n",
    "df['Type'] = df['Type'].map(Typemap)\n",
    "test['Type'] = test['Type'].map(Typemap)"
   ]
  },
  {
   "cell_type": "code",
   "execution_count": 43,
   "id": "1b9e0047",
   "metadata": {
    "scrolled": false
   },
   "outputs": [
    {
     "name": "stderr",
     "output_type": "stream",
     "text": [
      "C:\\Users\\vitor\\AppData\\Local\\Temp\\ipykernel_16132\\3849833344.py:1: FutureWarning: The default value of numeric_only in DataFrame.corr is deprecated. In a future version, it will default to False. Select only valid columns or specify the value of numeric_only to silence this warning.\n",
      "  matrix = df.corr()\n"
     ]
    },
    {
     "data": {
      "text/plain": [
       "Machine failure            1.000000\n",
       "HDF                        0.566309\n",
       "OSF                        0.500060\n",
       "PWF                        0.406044\n",
       "TWF                        0.319621\n",
       "totalerro10plsratio01      0.301261\n",
       "totalerro10plsratio02      0.290215\n",
       "totalerro10plsratio03      0.247147\n",
       "totalerro10plsratio04      0.195357\n",
       "totalerro10plsratio05      0.156436\n",
       "Torque [Nm]                0.150027\n",
       "totalerro10plsratio06      0.112434\n",
       "Air temperature [K]        0.069595\n",
       "Tool wear [min]            0.061215\n",
       "Process temperature [K]    0.031734\n",
       "RNF                        0.001619\n",
       "Type                       0.012176\n",
       "Rotational speed [rpm]     0.057575\n",
       "Name: Machine failure, dtype: float64"
      ]
     },
     "execution_count": 43,
     "metadata": {},
     "output_type": "execute_result"
    }
   ],
   "source": [
    "matrix = df.corr()\n",
    "abs(matrix['Machine failure'].sort_values(ascending = False))"
   ]
  },
  {
   "cell_type": "code",
   "execution_count": 44,
   "id": "215fb00a",
   "metadata": {},
   "outputs": [
    {
     "data": {
      "text/plain": [
       "0.9956541533876909"
      ]
     },
     "execution_count": 44,
     "metadata": {},
     "output_type": "execute_result"
    }
   ],
   "source": [
    "from sklearn.model_selection import train_test_split\n",
    "\n",
    "X = df.drop(columns=['Machine failure', 'Product ID'])\n",
    "y = df['Machine failure']\n",
    "X_train, X_test, y_train, y_test = train_test_split(X, y, test_size=0.33, random_state=42)\n",
    "\n",
    "from sklearn.ensemble import RandomForestClassifier\n",
    "\n",
    "model = RandomForestClassifier()\n",
    "\n",
    "model.fit(X_train, y_train)\n",
    "predict = model.predict(X_test)\n",
    "\n",
    "from sklearn.metrics import accuracy_score\n",
    "\n",
    "accuracy_score(y_test, predict) ##boa precisao?"
   ]
  },
  {
   "cell_type": "code",
   "execution_count": 53,
   "id": "2c837824",
   "metadata": {
    "scrolled": true
   },
   "outputs": [],
   "source": [
    "predicttest = model.predict(test.drop(columns=['Product ID', 'id' ]))\n",
    "test['Machine failure'] = predicttest\n",
    "sample_submission = test[['id','Machine failure']]\n",
    "sample_submission.set_index('id', inplace=True)\n",
    "sample_submission.to_csv(\"Comtodosdadostest1.csv\") ##meu resultado foi de 91% no kaggle foi bom mas pode ser melhor*\n",
    "test.drop(columns='Machine failure', inplace = True)"
   ]
  },
  {
   "cell_type": "code",
   "execution_count": null,
   "id": "806cd01e",
   "metadata": {},
   "outputs": [],
   "source": []
  },
  {
   "cell_type": "code",
   "execution_count": null,
   "id": "0a91c9e7",
   "metadata": {},
   "outputs": [],
   "source": []
  },
  {
   "cell_type": "code",
   "execution_count": null,
   "id": "0e647928",
   "metadata": {},
   "outputs": [],
   "source": []
  },
  {
   "cell_type": "markdown",
   "id": "8a84d5c4",
   "metadata": {},
   "source": [
    "### Vou balancear os dados modelo 2"
   ]
  },
  {
   "cell_type": "code",
   "execution_count": 46,
   "id": "ec787845",
   "metadata": {},
   "outputs": [],
   "source": [
    "#machinefailure1 = df[df['Machine failure'] == 1]\n",
    "#machinefailure0 = df[df['Machine failure'] == 0]"
   ]
  },
  {
   "cell_type": "code",
   "execution_count": 47,
   "id": "2ac4643b",
   "metadata": {},
   "outputs": [],
   "source": [
    "#machinefailure1.sample(600) ##return random df\n",
    "#machinefailure0.sample(600) ##return random df"
   ]
  },
  {
   "cell_type": "code",
   "execution_count": 48,
   "id": "1c25469b",
   "metadata": {},
   "outputs": [],
   "source": [
    "#newdf = pd.concat([machinefailure1, machinefailure0])"
   ]
  },
  {
   "cell_type": "code",
   "execution_count": 49,
   "id": "888ca236",
   "metadata": {},
   "outputs": [],
   "source": [
    "#newdf.head(5)"
   ]
  },
  {
   "cell_type": "code",
   "execution_count": 50,
   "id": "2d815fb3",
   "metadata": {},
   "outputs": [],
   "source": [
    "#from sklearn.ensemble import GradientBoostingClassifier"
   ]
  },
  {
   "cell_type": "code",
   "execution_count": 51,
   "id": "e0bbf69b",
   "metadata": {},
   "outputs": [],
   "source": [
    "#X = newdf.drop(columns=['Machine failure', 'Product ID', 'id' ])\n",
    "#y = newdf['Machine failure']\n",
    "#X_train, X_test, y_train, y_test = train_test_split(X, y, test_size=0.2, random_state=5)\n",
    "\n",
    "#model = GradientBoostingClassifier()\n",
    "\n",
    "#model.fit(X_train,y_train)\n",
    "#predict = model.predict(X_test)\n",
    "\n",
    "\n",
    "\n",
    "#accuracy_score(y_test, predict)"
   ]
  },
  {
   "cell_type": "code",
   "execution_count": null,
   "id": "aebd1e40",
   "metadata": {
    "scrolled": true
   },
   "outputs": [],
   "source": []
  },
  {
   "cell_type": "code",
   "execution_count": 52,
   "id": "dc073d0e",
   "metadata": {},
   "outputs": [],
   "source": [
    "### submission\n",
    "#xtest = test.drop(columns=['Product ID', 'id' ])\n",
    "#predicttest = model.predict(xtest)\n",
    "#test['Machine failure'] = predicttest\n",
    "\n",
    "#sample_submission = test[['id','Machine failure']]\n",
    "#sample_submission.set_index('id', inplace=True)\n",
    "#sample_submission.to_csv(\"balanceadograndboost.csv\")\n",
    "\n",
    "\n",
    "#test.drop(columns='Machine failure', inplace = True)\n",
    "\n",
    "##não mudou muito"
   ]
  },
  {
   "cell_type": "code",
   "execution_count": null,
   "id": "69478da7",
   "metadata": {},
   "outputs": [],
   "source": []
  },
  {
   "cell_type": "code",
   "execution_count": null,
   "id": "538586be",
   "metadata": {},
   "outputs": [],
   "source": []
  }
 ],
 "metadata": {
  "kernelspec": {
   "display_name": "Python 3 (ipykernel)",
   "language": "python",
   "name": "python3"
  },
  "language_info": {
   "codemirror_mode": {
    "name": "ipython",
    "version": 3
   },
   "file_extension": ".py",
   "mimetype": "text/x-python",
   "name": "python",
   "nbconvert_exporter": "python",
   "pygments_lexer": "ipython3",
   "version": "3.10.9"
  }
 },
 "nbformat": 4,
 "nbformat_minor": 5
}
